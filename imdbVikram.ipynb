{
  "nbformat": 4,
  "nbformat_minor": 0,
  "metadata": {
    "colab": {
      "provenance": [],
      "authorship_tag": "ABX9TyNPhcEiLv2Y3h60x6m46F8D",
      "include_colab_link": true
    },
    "kernelspec": {
      "name": "python3",
      "display_name": "Python 3"
    },
    "language_info": {
      "name": "python"
    }
  },
  "cells": [
    {
      "cell_type": "markdown",
      "metadata": {
        "id": "view-in-github",
        "colab_type": "text"
      },
      "source": [
        "<a href=\"https://colab.research.google.com/github/vikram-42-alla/Backend-Server/blob/main/imdbVikram.ipynb\" target=\"_parent\"><img src=\"https://colab.research.google.com/assets/colab-badge.svg\" alt=\"Open In Colab\"/></a>"
      ]
    },
    {
      "cell_type": "code",
      "execution_count": 4,
      "metadata": {
        "colab": {
          "base_uri": "https://localhost:8080/"
        },
        "id": "UT2JMuzB7Gg4",
        "outputId": "92bb12f2-4684-44ef-8c0a-d396c6c449cd"
      },
      "outputs": [
        {
          "output_type": "stream",
          "name": "stdout",
          "text": [
            "Epoch 1/11\n",
            "\u001b[1m196/196\u001b[0m \u001b[32m━━━━━━━━━━━━━━━━━━━━\u001b[0m\u001b[37m\u001b[0m \u001b[1m3s\u001b[0m 8ms/step - accuracy: 0.5012 - loss: 322.3134 - val_accuracy: 0.4992 - val_loss: 1.3543\n",
            "Epoch 2/11\n",
            "\u001b[1m196/196\u001b[0m \u001b[32m━━━━━━━━━━━━━━━━━━━━\u001b[0m\u001b[37m\u001b[0m \u001b[1m3s\u001b[0m 9ms/step - accuracy: 0.5034 - loss: 10.5649 - val_accuracy: 0.5028 - val_loss: 0.7452\n",
            "Epoch 3/11\n",
            "\u001b[1m196/196\u001b[0m \u001b[32m━━━━━━━━━━━━━━━━━━━━\u001b[0m\u001b[37m\u001b[0m \u001b[1m2s\u001b[0m 7ms/step - accuracy: 0.4979 - loss: 2.5845 - val_accuracy: 0.5077 - val_loss: 0.7190\n",
            "Epoch 4/11\n",
            "\u001b[1m196/196\u001b[0m \u001b[32m━━━━━━━━━━━━━━━━━━━━\u001b[0m\u001b[37m\u001b[0m \u001b[1m1s\u001b[0m 7ms/step - accuracy: 0.5007 - loss: 1.5403 - val_accuracy: 0.5013 - val_loss: 0.7173\n",
            "Epoch 5/11\n",
            "\u001b[1m196/196\u001b[0m \u001b[32m━━━━━━━━━━━━━━━━━━━━\u001b[0m\u001b[37m\u001b[0m \u001b[1m3s\u001b[0m 7ms/step - accuracy: 0.5070 - loss: 1.2228 - val_accuracy: 0.5029 - val_loss: 0.7353\n",
            "Epoch 6/11\n",
            "\u001b[1m196/196\u001b[0m \u001b[32m━━━━━━━━━━━━━━━━━━━━\u001b[0m\u001b[37m\u001b[0m \u001b[1m2s\u001b[0m 6ms/step - accuracy: 0.4985 - loss: 1.2737 - val_accuracy: 0.4989 - val_loss: 0.6962\n",
            "Epoch 7/11\n",
            "\u001b[1m196/196\u001b[0m \u001b[32m━━━━━━━━━━━━━━━━━━━━\u001b[0m\u001b[37m\u001b[0m \u001b[1m1s\u001b[0m 7ms/step - accuracy: 0.4985 - loss: 1.0027 - val_accuracy: 0.4977 - val_loss: 0.6940\n",
            "Epoch 8/11\n",
            "\u001b[1m196/196\u001b[0m \u001b[32m━━━━━━━━━━━━━━━━━━━━\u001b[0m\u001b[37m\u001b[0m \u001b[1m3s\u001b[0m 7ms/step - accuracy: 0.5078 - loss: 0.8975 - val_accuracy: 0.4980 - val_loss: 0.6938\n",
            "Epoch 9/11\n",
            "\u001b[1m196/196\u001b[0m \u001b[32m━━━━━━━━━━━━━━━━━━━━\u001b[0m\u001b[37m\u001b[0m \u001b[1m1s\u001b[0m 7ms/step - accuracy: 0.4964 - loss: 0.8231 - val_accuracy: 0.4989 - val_loss: 0.6935\n",
            "Epoch 10/11\n",
            "\u001b[1m196/196\u001b[0m \u001b[32m━━━━━━━━━━━━━━━━━━━━\u001b[0m\u001b[37m\u001b[0m \u001b[1m1s\u001b[0m 7ms/step - accuracy: 0.5019 - loss: 0.8166 - val_accuracy: 0.4985 - val_loss: 0.6936\n",
            "Epoch 11/11\n",
            "\u001b[1m196/196\u001b[0m \u001b[32m━━━━━━━━━━━━━━━━━━━━\u001b[0m\u001b[37m\u001b[0m \u001b[1m3s\u001b[0m 7ms/step - accuracy: 0.5029 - loss: 0.7974 - val_accuracy: 0.5003 - val_loss: 0.6932\n",
            "Accuracy : 50.03%\n"
          ]
        }
      ],
      "source": [
        "#Import the necessary Libraries\n",
        "from tensorflow.keras.datasets import imdb\n",
        "from tensorflow.keras.models import Sequential\n",
        "from tensorflow.keras.layers import Dense,Dropout\n",
        "from tensorflow.keras.preprocessing.sequence import pad_sequences\n",
        "(X_train,y_train),(X_test,y_test)=imdb.load_data(num_words=10000)\n",
        "maxlen=200\n",
        "X_train=pad_sequences(X_train,maxlen=maxlen)\n",
        "X_test=pad_sequences(X_test,maxlen=maxlen)\n",
        "#Model\n",
        "model=Sequential()\n",
        "model.add(Dense(128,activation='relu',input_shape=(maxlen,)))\n",
        "model.add(Dropout(0.5))\n",
        "model.add(Dense(64,activation='relu'))\n",
        "model.add(Dropout(0.5))\n",
        "model.add(Dense(1,activation='sigmoid'))\n",
        "#Compile\n",
        "model.compile(loss='binary_crossentropy',optimizer='adam',metrics=['accuracy'])\n",
        "model.fit(X_train,y_train,validation_data=(X_test,y_test),epochs=11,batch_size=128)\n",
        "scores=model.evaluate(X_test,y_test,verbose=0)\n",
        "print(\"Accuracy : %.2f%%\"%(scores[1]*100))"
      ]
    }
  ]
}